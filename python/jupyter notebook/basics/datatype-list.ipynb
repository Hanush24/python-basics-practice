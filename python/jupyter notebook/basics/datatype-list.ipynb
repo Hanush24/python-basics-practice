{
 "cells": [
  {
   "cell_type": "markdown",
   "id": "5e8f6192-5e0e-4e42-beff-22e4343b1026",
   "metadata": {},
   "source": [
    "every content under square bracket [] is list\n",
    "list is said to be collection of elements"
   ]
  },
  {
   "cell_type": "code",
   "execution_count": 1,
   "id": "f1268c8a-af7f-4cde-ba86-e88a02bfcbff",
   "metadata": {},
   "outputs": [],
   "source": [
    "#what is list?\n",
    "name=\"hanush\"\n",
    "age=21\n",
    "height=5.9\n",
    "details=[\"hanush\",21,5.9]"
   ]
  },
  {
   "cell_type": "code",
   "execution_count": 4,
   "id": "c12ae55f-ab2d-48cf-a61f-c844719505a9",
   "metadata": {},
   "outputs": [
    {
     "name": "stdout",
     "output_type": "stream",
     "text": [
      "5.9\n"
     ]
    }
   ],
   "source": [
    "#list indexing\n",
    "details=[\"hanush\",21,5.9]\n",
    "print(details[2])"
   ]
  },
  {
   "cell_type": "markdown",
   "id": "d814264a-1b64-427a-9240-053f69918be7",
   "metadata": {},
   "source": [
    "three types of actions can be performed in lists\n",
    "*access\n",
    "*modify\n",
    "*deletion"
   ]
  },
  {
   "cell_type": "code",
   "execution_count": 6,
   "id": "b42c0153-7031-46ec-a5be-bd8dce0f0b7c",
   "metadata": {},
   "outputs": [
    {
     "name": "stdout",
     "output_type": "stream",
     "text": [
      "10\n",
      "20\n",
      "30\n",
      "40\n",
      "50\n",
      "60\n"
     ]
    }
   ],
   "source": [
    "# index-access\n",
    "num=[10,20,30,[40,50],60]\n",
    "print(num[0])\n",
    "print(num[1])\n",
    "print(num[2])\n",
    "print(num[3][0])\n",
    "print(num[3][1])\n",
    "print(num[4])"
   ]
  },
  {
   "cell_type": "code",
   "execution_count": 10,
   "id": "b2d2150f-ab7d-4939-ac59-3e5156d6c52a",
   "metadata": {},
   "outputs": [
    {
     "name": "stdout",
     "output_type": "stream",
     "text": [
      "['hanush', 'shanmugasundaram', 'navaneetham']\n"
     ]
    }
   ],
   "source": [
    "# index-modify\n",
    "names=[\"hanush\",\"shanmugasundaram\",\"ramanathan\"]\n",
    "names[2]=\"navaneetham\"\n",
    "print(names)"
   ]
  },
  {
   "cell_type": "code",
   "execution_count": 12,
   "id": "2107318e-c04a-42f0-89e5-ec4b26c5585b",
   "metadata": {},
   "outputs": [
    {
     "name": "stdout",
     "output_type": "stream",
     "text": [
      "['hanush', 'shanmugasundaram']\n"
     ]
    }
   ],
   "source": [
    "# index-deletion\n",
    "names=[\"hanush\",\"shanmugasundaram\",\"ramanathan\"]\n",
    "del names[2]\n",
    "print(names)"
   ]
  },
  {
   "cell_type": "code",
   "execution_count": 2,
   "id": "c3d6c410-462f-44f4-b0a9-3d445c49bae7",
   "metadata": {},
   "outputs": [
    {
     "name": "stdout",
     "output_type": "stream",
     "text": [
      "[10, 20, 30, 40, 50]\n"
     ]
    }
   ],
   "source": [
    "#list slicing  used for multiple operations in a list\n",
    "#slicing access\n",
    "num=[10,20,30,40,50]\n",
    "num[0:4]\n",
    "print(num)\n",
    " "
   ]
  },
  {
   "cell_type": "code",
   "execution_count": 3,
   "id": "3cb229e0-24b5-4508-9ea8-a21b08f78173",
   "metadata": {},
   "outputs": [
    {
     "data": {
      "text/plain": [
       "[10, 20, 30]"
      ]
     },
     "execution_count": 3,
     "metadata": {},
     "output_type": "execute_result"
    }
   ],
   "source": [
    "num[:3]"
   ]
  },
  {
   "cell_type": "code",
   "execution_count": 5,
   "id": "ffeb126f-d9f0-43c6-adf1-189ad9fcae54",
   "metadata": {},
   "outputs": [
    {
     "name": "stdout",
     "output_type": "stream",
     "text": [
      "['biscuits', 'bread', 'jam']\n",
      "[10, 20, 30]\n",
      "['red', 'yellow', 'green']\n"
     ]
    }
   ],
   "source": [
    "#slicing-method\n",
    "food=[\"biscuits\",\"bread\",\"jam\",\"milk\"]\n",
    "numbers=[10,20,30,40,50,60,70,80]\n",
    "colors=[\"red\",\"yellow\",\"green\",\"black\",\"pink\"]\n",
    "s=slice(0,3)\n",
    "print(food[s])\n",
    "print(numbers[s])\n",
    "print(colors[s])"
   ]
  },
  {
   "cell_type": "code",
   "execution_count": 7,
   "id": "4c420d42-34ff-4e34-be52-d6797b43d9d9",
   "metadata": {},
   "outputs": [
    {
     "name": "stdout",
     "output_type": "stream",
     "text": [
      "[59, 49, 39, 29, 19]\n",
      "[49, 39, 29, 19]\n"
     ]
    }
   ],
   "source": [
    " #reversing the list\n",
    "num=[19,29,39,49,59]\n",
    "print(num[::-1])\n",
    "print(num[-2::-1])"
   ]
  },
  {
   "cell_type": "code",
   "execution_count": 18,
   "id": "1fbc7d9e-a8e0-4905-8b68-124b1c4d833f",
   "metadata": {},
   "outputs": [
    {
     "name": "stdout",
     "output_type": "stream",
     "text": [
      "[1, 2, 3, 4, 5, 59]\n"
     ]
    }
   ],
   "source": [
    "#slicing modify\n",
    "nums=[19,29,39,49,59]\n",
    "nums[0:4]=[1,2,3,4,5]\n",
    "print(nums)"
   ]
  },
  {
   "cell_type": "code",
   "execution_count": 21,
   "id": "640770e8-05f5-4d43-8cfe-e2ae2793c300",
   "metadata": {},
   "outputs": [
    {
     "name": "stdout",
     "output_type": "stream",
     "text": [
      "[1, 29, 1, 49, 1, 69, 1, 89, 1]\n"
     ]
    }
   ],
   "source": [
    "num=[19,29,39,49,59,69,79,89,99]\n",
    "num[::2]=[1,1,1,1,1]\n",
    "print(num)"
   ]
  },
  {
   "cell_type": "code",
   "execution_count": 22,
   "id": "401d0366-6e43-4afb-b01b-4361d9197b9b",
   "metadata": {},
   "outputs": [
    {
     "name": "stdout",
     "output_type": "stream",
     "text": [
      "[4, 5, 6, 7, 8, 9, 10]\n"
     ]
    }
   ],
   "source": [
    "#string-deletion\n",
    "a=[1,2,3,4,5,6,7,8,9,10]\n",
    "del a[0:3]\n",
    "print(a)"
   ]
  },
  {
   "cell_type": "code",
   "execution_count": 23,
   "id": "6a8ac648-98e1-4c6b-a5c2-ec9f240d7074",
   "metadata": {},
   "outputs": [
    {
     "name": "stdout",
     "output_type": "stream",
     "text": [
      "[2, 4, 6, 8, 10]\n"
     ]
    }
   ],
   "source": [
    "b=[1,2,3,4,5,6,7,8,9,10]\n",
    "del b[::2]\n",
    "print(b)"
   ]
  },
  {
   "cell_type": "markdown",
   "id": "bd00a511-f233-4f81-8849-b226449789ad",
   "metadata": {},
   "source": [
    "video 10 finished"
   ]
  },
  {
   "cell_type": "code",
   "execution_count": 26,
   "id": "6c431e24-26d2-4a68-af3f-ee7b1dcd5c02",
   "metadata": {},
   "outputs": [
    {
     "name": "stdin",
     "output_type": "stream",
     "text": [
      " 3\n"
     ]
    },
    {
     "name": "stdout",
     "output_type": "stream",
     "text": [
      "[1, 2, 3]\n"
     ]
    }
   ],
   "source": [
    "n=int(input())\n",
    "num=[1,2,3,4,5,6,7,8,9,10,11,12,13,14,15]\n",
    "print(num[0:n])"
   ]
  },
  {
   "cell_type": "code",
   "execution_count": null,
   "id": "64f8a391-eb42-4e87-bbaf-f9cf1fb0f009",
   "metadata": {},
   "outputs": [],
   "source": []
  }
 ],
 "metadata": {
  "kernelspec": {
   "display_name": "Python 3 (ipykernel)",
   "language": "python",
   "name": "python3"
  },
  "language_info": {
   "codemirror_mode": {
    "name": "ipython",
    "version": 3
   },
   "file_extension": ".py",
   "mimetype": "text/x-python",
   "name": "python",
   "nbconvert_exporter": "python",
   "pygments_lexer": "ipython3",
   "version": "3.12.1"
  }
 },
 "nbformat": 4,
 "nbformat_minor": 5
}
