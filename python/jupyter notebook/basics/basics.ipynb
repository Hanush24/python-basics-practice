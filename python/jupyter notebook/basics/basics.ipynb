{
 "cells": [
  {
   "cell_type": "markdown",
   "id": "1dd7fd47-82ed-46cd-b7f1-1c82766dd14d",
   "metadata": {},
   "source": [
    ", is used as seperator. if any symbols needed use - ,sep=\"_\""
   ]
  },
  {
   "cell_type": "code",
   "execution_count": 1,
   "id": "401766f5-1d84-4981-b556-77f652d95dd2",
   "metadata": {},
   "outputs": [
    {
     "name": "stdout",
     "output_type": "stream",
     "text": [
      "Hi i am Hanush\n"
     ]
    }
   ],
   "source": [
    "print(\"Hi i am\",\"Hanush\")"
   ]
  },
  {
   "cell_type": "code",
   "execution_count": 2,
   "id": "9378f973-fa2f-42ae-a1b8-b7abcd852d7c",
   "metadata": {},
   "outputs": [
    {
     "name": "stdout",
     "output_type": "stream",
     "text": [
      "Hi_I_am_hanush\n"
     ]
    }
   ],
   "source": [
    "print(\"Hi\",\"I\",\"am\",\"hanush\",sep=\"_\")"
   ]
  },
  {
   "cell_type": "markdown",
   "id": "4e1b5076-ae02-4bf4-ad77-d80c6444c52e",
   "metadata": {},
   "source": [
    "end parameter is used end=\"\" "
   ]
  },
  {
   "cell_type": "code",
   "execution_count": 3,
   "id": "f945ab88-520e-4873-a1db-4c23789b68df",
   "metadata": {},
   "outputs": [
    {
     "name": "stdout",
     "output_type": "stream",
     "text": [
      "stop procastinating\n",
      "and\n",
      "get more done in less time\n"
     ]
    }
   ],
   "source": [
    "#stop procastinating and get more done in less time\n",
    "print(\"stop procastinating\")\n",
    "print(\"and\")\n",
    "print(\"get more done in less time\")"
   ]
  },
  {
   "cell_type": "markdown",
   "id": "13f4fc8c-0e91-45a3-a644-24de081f1e33",
   "metadata": {},
   "source": [
    "instead by using end parameter we can achieve this in single line with set of desired operations"
   ]
  },
  {
   "cell_type": "code",
   "execution_count": 5,
   "id": "30e112b4-571f-474c-a2de-98f80218281d",
   "metadata": {},
   "outputs": [
    {
     "name": "stdout",
     "output_type": "stream",
     "text": [
      "stop procastinating and get more done in less time."
     ]
    }
   ],
   "source": [
    "print(\"stop procastinating\",end=\" \")\n",
    "print(\"and\",end=\" \")\n",
    "print(\"get more done in less time\",end=\".\")"
   ]
  },
  {
   "cell_type": "code",
   "execution_count": 7,
   "id": "b7851381-641b-44fc-b8eb-5e631fba7737",
   "metadata": {},
   "outputs": [
    {
     "name": "stdout",
     "output_type": "stream",
     "text": [
      "welcome to KUMARAGURU COLLEGE OF TECHNOLOGY\n",
      "\t*character is life\n",
      "\t*life is character\n"
     ]
    }
   ],
   "source": [
    "#welcome to KUMARAGURU COLLEGE OF TECHNOLOGY\n",
    "#     *character is life\n",
    "#     *life is character\n",
    "\n",
    "print(\"welcome to KUMARAGURU COLLEGE OF TECHNOLOGY\",end=\"\\n\\t*\")\n",
    "print(\"character is life\",end=\"\\n\\t*\")\n",
    "print(\"life is character\")"
   ]
  },
  {
   "cell_type": "markdown",
   "id": "0a9b29d2-bfbe-4d46-86b1-a3a3d01f652e",
   "metadata": {},
   "source": [
    "* using \\n - it gets us to the next line\n",
    "* using \\t - it gives us a tab space to the line"
   ]
  },
  {
   "cell_type": "code",
   "execution_count": 2,
   "id": "ed4ace6b-4a4c-46c7-9a19-5de4cf780e2d",
   "metadata": {},
   "outputs": [
    {
     "name": "stdout",
     "output_type": "stream",
     "text": [
      "638\n"
     ]
    }
   ],
   "source": [
    "#assigning a value to a variable\n",
    "a=270\n",
    "b=368\n",
    "c=a+b\n",
    "print(c)"
   ]
  },
  {
   "cell_type": "code",
   "execution_count": 3,
   "id": "f315d026-8f2e-40dc-a042-497f243d0eca",
   "metadata": {},
   "outputs": [
    {
     "name": "stdout",
     "output_type": "stream",
     "text": [
      "638\n"
     ]
    }
   ],
   "source": [
    "#to reduce lines we can type this in a same line\n",
    "a,b,c=270,368,a+b\n",
    "print(c)"
   ]
  },
  {
   "cell_type": "code",
   "execution_count": 5,
   "id": "e829cb8e-a851-4840-9e37-b3afa6297bde",
   "metadata": {},
   "outputs": [
    {
     "name": "stdin",
     "output_type": "stream",
     "text": [
      "What is your name:  hanush\n",
      "How old are you:  22\n"
     ]
    },
    {
     "name": "stdout",
     "output_type": "stream",
     "text": [
      "hanush will be 100 years old in the year 2102\n"
     ]
    }
   ],
   "source": [
    "name = input(\"What is your name: \")\n",
    "\n",
    "age = int(input(\"How old are you: \"))\n",
    "\n",
    "year = str((2024 - age)+100)\n",
    "\n",
    "print(name + \" will be 100 years old in the year \" + year)"
   ]
  },
  {
   "cell_type": "markdown",
   "id": "27edd2ca-89b9-4e67-8b9c-d7c8770719dc",
   "metadata": {},
   "source": [
    "##BASIC PROBLEMS"
   ]
  },
  {
   "cell_type": "code",
   "execution_count": 6,
   "id": "c02f598a-f53e-4236-b397-955d0c7cb152",
   "metadata": {
    "jp-MarkdownHeadingCollapsed": true
   },
   "outputs": [
    {
     "name": "stdin",
     "output_type": "stream",
     "text": [
      "enter first number 10\n",
      "enter second number 24\n"
     ]
    },
    {
     "name": "stdout",
     "output_type": "stream",
     "text": [
      "The sum of two numbers is 34\n"
     ]
    }
   ],
   "source": [
    "#sum of two numbers\n",
    "a=int(input(\"enter first number\"))\n",
    "b=int(input(\"enter second number\"))\n",
    "c=a+b\n",
    "print(\"The sum of two numbers is\",c)"
   ]
  },
  {
   "cell_type": "code",
   "execution_count": 9,
   "id": "47b4cf92-2f5b-4d99-9099-b713ae48a081",
   "metadata": {},
   "outputs": [
    {
     "name": "stdin",
     "output_type": "stream",
     "text": [
      "enter a number:  9999827\n"
     ]
    },
    {
     "name": "stdout",
     "output_type": "stream",
     "text": [
      "the given number is odd\n"
     ]
    }
   ],
   "source": [
    "#check odd or even\n",
    "a=int(input(\"enter a number: \"))\n",
    "if a%2 == 0:\n",
    " print(\"the given number is even\")\n",
    "else:\n",
    " print(\"the given number is odd\")"
   ]
  }
 ],
 "metadata": {
  "kernelspec": {
   "display_name": "Python 3 (ipykernel)",
   "language": "python",
   "name": "python3"
  },
  "language_info": {
   "codemirror_mode": {
    "name": "ipython",
    "version": 3
   },
   "file_extension": ".py",
   "mimetype": "text/x-python",
   "name": "python",
   "nbconvert_exporter": "python",
   "pygments_lexer": "ipython3",
   "version": "3.12.1"
  }
 },
 "nbformat": 4,
 "nbformat_minor": 5
}
