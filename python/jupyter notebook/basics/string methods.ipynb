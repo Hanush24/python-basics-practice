{
 "cells": [
  {
   "cell_type": "code",
   "execution_count": 4,
   "id": "46a283fa-c199-4482-8923-43beecf34cab",
   "metadata": {},
   "outputs": [
    {
     "name": "stdout",
     "output_type": "stream",
     "text": [
      "5\n",
      "2\n"
     ]
    }
   ],
   "source": [
    "#count function [\"str\",start,end]\n",
    "a=\"rajninkanth is my favourite cinema actor\"\n",
    "print(a.count(\"a\"))\n",
    "print(a.count(\"a\",0,9))"
   ]
  },
  {
   "cell_type": "code",
   "execution_count": 5,
   "id": "9c378f35-d451-4517-b01e-e7ec6f65e769",
   "metadata": {},
   "outputs": [
    {
     "name": "stdout",
     "output_type": "stream",
     "text": [
      "False\n",
      "True\n"
     ]
    }
   ],
   "source": [
    "#islower() and lower()\n",
    "a=\"I am HanUsh\"\n",
    "b=\"i am hanush\"\n",
    "print(a.islower())\n",
    "print(b.islower())"
   ]
  },
  {
   "cell_type": "code",
   "execution_count": 6,
   "id": "f7f4afa8-cb1a-4ea3-906d-f84cd9a821da",
   "metadata": {},
   "outputs": [
    {
     "name": "stdout",
     "output_type": "stream",
     "text": [
      "i am hanush\n",
      "i am hanush\n"
     ]
    }
   ],
   "source": [
    "#to convert everything in lowercase \n",
    "a=\"I am HanUsh\"\n",
    "b=\"i am hanush\"\n",
    "print(a.lower())\n",
    "print(b.lower())"
   ]
  },
  {
   "cell_type": "code",
   "execution_count": 8,
   "id": "427ebae0-c321-48fe-b11c-0c3e591bb1ad",
   "metadata": {},
   "outputs": [
    {
     "name": "stdout",
     "output_type": "stream",
     "text": [
      "False\n",
      "True\n"
     ]
    }
   ],
   "source": [
    "#isupper() and upper()\n",
    "a=\"I am HanUsh\"\n",
    "b=\"I AM HANUSH\"\n",
    "print(a.isupper())\n",
    "print(b.isupper())"
   ]
  },
  {
   "cell_type": "code",
   "execution_count": 9,
   "id": "3d448a4c-95da-4f23-b296-c606fe53800d",
   "metadata": {},
   "outputs": [
    {
     "name": "stdout",
     "output_type": "stream",
     "text": [
      "KUMARAGURU COLLEGE OF TECHNOLOGY\n"
     ]
    }
   ],
   "source": [
    "#to convert everything in uppercase\n",
    "a=\"kumaraguru COllegE of TECHnoloGy\"\n",
    "print(a.upper())"
   ]
  },
  {
   "cell_type": "code",
   "execution_count": 10,
   "id": "b47f6ae9-f69b-4fbe-895f-0e2991ceac98",
   "metadata": {},
   "outputs": [
    {
     "name": "stdout",
     "output_type": "stream",
     "text": [
      "KUMARAGURU coLLEGe OF techNOLOgY\n"
     ]
    }
   ],
   "source": [
    "#swapcase() it changes lower-upper and upper-lower\n",
    "a=\"kumaraguru COllegE of TECHnoloGy\"\n",
    "print(a.swapcase())"
   ]
  },
  {
   "cell_type": "code",
   "execution_count": 2,
   "id": "73618e1a-a452-4fbc-a919-e893587562bb",
   "metadata": {},
   "outputs": [
    {
     "name": "stdout",
     "output_type": "stream",
     "text": [
      "False\n",
      "Im Hanush From Arakkonam\n"
     ]
    }
   ],
   "source": [
    "# istitle() title()\n",
    "a=\"im hanush from arakkonam\"\n",
    "print(a.istitle())\n",
    "print(a.title())"
   ]
  },
  {
   "cell_type": "code",
   "execution_count": 6,
   "id": "bed09f93-29b9-4602-aeb8-ee83fe46514f",
   "metadata": {},
   "outputs": [
    {
     "name": "stdout",
     "output_type": "stream",
     "text": [
      "True\n",
      "False\n",
      "True\n"
     ]
    }
   ],
   "source": [
    "# startswith()\n",
    "var=\"Hey how are you??\"\n",
    "print(var.startswith(\"Hey\"))\n",
    "print(var.startswith(\"how\"))\n",
    "print(var.startswith(\"H\"))"
   ]
  },
  {
   "cell_type": "code",
   "execution_count": 8,
   "id": "b7b293e3-5fcb-4f67-b84b-2cee036453c5",
   "metadata": {},
   "outputs": [
    {
     "name": "stdout",
     "output_type": "stream",
     "text": [
      "True\n",
      "False\n",
      "True\n"
     ]
    }
   ],
   "source": [
    "# endswith()\n",
    "var=\"Hey how are you??\"\n",
    "print(var.endswith(\"you??\"))\n",
    "print(var.endswith(\"you\"))\n",
    "print(var.endswith(\"?\"))"
   ]
  },
  {
   "cell_type": "code",
   "execution_count": 9,
   "id": "16ec5dbc-8e74-4849-b426-df36ea4d616c",
   "metadata": {},
   "outputs": [
    {
     "name": "stdout",
     "output_type": "stream",
     "text": [
      "True\n"
     ]
    }
   ],
   "source": [
    "# isnumeric()\n",
    "num=\"1234\"\n",
    "print(num.isnumeric())"
   ]
  },
  {
   "cell_type": "code",
   "execution_count": 10,
   "id": "e984673c-be14-4ff1-8778-d08774cf5610",
   "metadata": {},
   "outputs": [
    {
     "name": "stdout",
     "output_type": "stream",
     "text": [
      "True\n"
     ]
    }
   ],
   "source": [
    "# isalpha()\n",
    "alph=\"asbldajs\"\n",
    "print(alph.isalpha())"
   ]
  },
  {
   "cell_type": "code",
   "execution_count": 11,
   "id": "644f986d-5edd-4158-9024-827c4f524985",
   "metadata": {},
   "outputs": [
    {
     "name": "stdout",
     "output_type": "stream",
     "text": [
      "True\n",
      "True\n",
      "True\n"
     ]
    }
   ],
   "source": [
    "# isalnum()\n",
    "a=\"hanush\"\n",
    "print(a.isalnum())\n",
    "b=\"hanush24\"\n",
    "print(b.isalnum())\n",
    "c=\"1234\"\n",
    "print(c.isalnum())"
   ]
  },
  {
   "cell_type": "code",
   "execution_count": 16,
   "id": "88614491-4fe8-4bca-9349-2742836d7af2",
   "metadata": {},
   "outputs": [
    {
     "name": "stdout",
     "output_type": "stream",
     "text": [
      "11\n",
      "-1\n",
      "11\n"
     ]
    },
    {
     "ename": "ValueError",
     "evalue": "substring not found",
     "output_type": "error",
     "traceback": [
      "\u001b[1;31m---------------------------------------------------------------------------\u001b[0m",
      "\u001b[1;31mValueError\u001b[0m                                Traceback (most recent call last)",
      "Cell \u001b[1;32mIn[16], line 6\u001b[0m\n\u001b[0;32m      4\u001b[0m \u001b[38;5;28mprint\u001b[39m(txt\u001b[38;5;241m.\u001b[39mfind(\u001b[38;5;124m\"\u001b[39m\u001b[38;5;124miss\u001b[39m\u001b[38;5;124m\"\u001b[39m))\n\u001b[0;32m      5\u001b[0m \u001b[38;5;28mprint\u001b[39m(txt\u001b[38;5;241m.\u001b[39mindex(\u001b[38;5;124m\"\u001b[39m\u001b[38;5;124mis\u001b[39m\u001b[38;5;124m\"\u001b[39m))\n\u001b[1;32m----> 6\u001b[0m \u001b[38;5;28mprint\u001b[39m(\u001b[43mtxt\u001b[49m\u001b[38;5;241;43m.\u001b[39;49m\u001b[43mindex\u001b[49m\u001b[43m(\u001b[49m\u001b[38;5;124;43m\"\u001b[39;49m\u001b[38;5;124;43miss\u001b[39;49m\u001b[38;5;124;43m\"\u001b[39;49m\u001b[43m)\u001b[49m)\n",
      "\u001b[1;31mValueError\u001b[0m: substring not found"
     ]
    }
   ],
   "source": [
    "# find() index()\n",
    "txt=\"hi my name is hanush\"\n",
    "print(txt.find(\"is\"))\n",
    "print(txt.find(\"iss\"))\n",
    "print(txt.index(\"is\"))\n",
    "print(txt.index(\"iss\"))"
   ]
  },
  {
   "cell_type": "markdown",
   "id": "45ba4c4d-1007-4c7d-8a49-aea621fa1809",
   "metadata": {},
   "source": [
    "this is the difference between find and index function. in index() we get errors for not the words in it. but in find() we dont get errors"
   ]
  },
  {
   "cell_type": "code",
   "execution_count": 17,
   "id": "f1fb9440-6da1-45ca-9ce8-d4b4e1f0ecbc",
   "metadata": {},
   "outputs": [
    {
     "name": "stdout",
     "output_type": "stream",
     "text": [
      "hanush is an introvert\n"
     ]
    }
   ],
   "source": [
    "#replace()\n",
    "news=\"hanush is an extrovert\"\n",
    "print(news.replace(\"extrovert\",\"introvert\"))"
   ]
  },
  {
   "cell_type": "code",
   "execution_count": 18,
   "id": "8e4ebbe8-b956-4479-8c91-9f89897499cf",
   "metadata": {},
   "outputs": [
    {
     "name": "stdout",
     "output_type": "stream",
     "text": [
      "rajnikanth is an extrovert, rajnikanth is an engineer, hanush is vibrant person\n"
     ]
    }
   ],
   "source": [
    "news=\"hanush is an extrovert, hanush is an engineer, hanush is vibrant person\"\n",
    "print(news.replace(\"hanush\",\"rajnikanth\",2))"
   ]
  },
  {
   "cell_type": "code",
   "execution_count": 23,
   "id": "aa633c3a-d525-4225-ac98-5836640fb8ab",
   "metadata": {},
   "outputs": [
    {
     "name": "stdout",
     "output_type": "stream",
     "text": [
      "hanush\n",
      "hanush$%^\n",
      "@@!@@hanush\n"
     ]
    }
   ],
   "source": [
    "# strip()\n",
    "txt=\"@#@@hanush#@&$\"\n",
    "print(txt.strip(\"@#&$\"))\n",
    "# lstrip\n",
    "txt_one=\"@@!@@hanush$%^\"\n",
    "print(txt_one.lstrip(\"@!\"))\n",
    "# rstrip\n",
    "txt_one=\"@@!@@hanush$%^\"\n",
    "print(txt_one.rstrip(\"$%^\"))"
   ]
  },
  {
   "cell_type": "code",
   "execution_count": 29,
   "id": "79ea914f-2a3e-4a40-81e6-f0af35ba32ba",
   "metadata": {},
   "outputs": [
    {
     "name": "stdout",
     "output_type": "stream",
     "text": [
      "bahubali$$$$$$$\n",
      "%%%%%%%%%%%%bahubali\n",
      "%%%%%%bahubali%%%%%%\n"
     ]
    }
   ],
   "source": [
    "#ljust() \n",
    "word=\"bahubali\"\n",
    "print(word.ljust(15,\"$\"))\n",
    "#rjust()\n",
    "print(word.rjust(20,\"%\"))\n",
    "#center\n",
    "print(word.center(20,\"%\"))"
   ]
  },
  {
   "cell_type": "code",
   "execution_count": null,
   "id": "5f517564-4973-4a7b-ba6a-509514d016c4",
   "metadata": {},
   "outputs": [],
   "source": []
  }
 ],
 "metadata": {
  "kernelspec": {
   "display_name": "Python 3 (ipykernel)",
   "language": "python",
   "name": "python3"
  },
  "language_info": {
   "codemirror_mode": {
    "name": "ipython",
    "version": 3
   },
   "file_extension": ".py",
   "mimetype": "text/x-python",
   "name": "python",
   "nbconvert_exporter": "python",
   "pygments_lexer": "ipython3",
   "version": "3.12.1"
  }
 },
 "nbformat": 4,
 "nbformat_minor": 5
}
