{
 "cells": [
  {
   "cell_type": "code",
   "execution_count": 3,
   "id": "0a2ae744-abd5-4014-9365-d27f1a95c812",
   "metadata": {},
   "outputs": [
    {
     "name": "stdout",
     "output_type": "stream",
     "text": [
      "hanushshanmugasundaram\n"
     ]
    }
   ],
   "source": [
    "#string concatenation\n",
    "firstname=\"hanush\"\n",
    "lastname=\"shanmugasundaram\"\n",
    "fullname=firstname+lastname\n",
    "print(fullname)"
   ]
  },
  {
   "cell_type": "code",
   "execution_count": 6,
   "id": "c303209c-2ec3-4c53-bb1f-8a2b060c0faf",
   "metadata": {},
   "outputs": [
    {
     "name": "stdout",
     "output_type": "stream",
     "text": [
      "hanush shanmugasundaram\n"
     ]
    }
   ],
   "source": [
    "#we need gap in between tha names\n",
    "print(firstname,lastname)"
   ]
  },
  {
   "cell_type": "code",
   "execution_count": 7,
   "id": "3842f283-00e3-4182-9203-162bbe143b18",
   "metadata": {},
   "outputs": [
    {
     "name": "stdout",
     "output_type": "stream",
     "text": [
      "hanushhanushhanushhanushhanush\n"
     ]
    }
   ],
   "source": [
    "rename=firstname*5\n",
    "print(rename)"
   ]
  },
  {
   "cell_type": "code",
   "execution_count": 8,
   "id": "0a10ae04-2bfa-44a1-b86f-1b94244d1d8e",
   "metadata": {},
   "outputs": [
    {
     "name": "stdout",
     "output_type": "stream",
     "text": [
      "you're studying BE mechatronics in kumaraguru college of technology\n"
     ]
    }
   ],
   "source": [
    "#printing the string statements\n",
    "a=\"kumaraguru college of technology\"\n",
    "b=\"BE mechatronics\"\n",
    "print(\"you\\'re studying\",b,\"in\",a)"
   ]
  },
  {
   "cell_type": "code",
   "execution_count": 10,
   "id": "1f4c4ef5-7d17-49dd-aea4-1e9ca894424b",
   "metadata": {},
   "outputs": [
    {
     "name": "stdout",
     "output_type": "stream",
     "text": [
      "you are studying BE mechatronics in kumaraguru college of technology .\n"
     ]
    }
   ],
   "source": [
    "print(f\"you are studying {b} in {a} .\")"
   ]
  },
  {
   "cell_type": "code",
   "execution_count": 12,
   "id": "5a2c11c9-0387-4914-8acb-83e6ece7459f",
   "metadata": {},
   "outputs": [
    {
     "data": {
      "text/plain": [
       "('r', 'a', 'a', 'n')"
      ]
     },
     "execution_count": 12,
     "metadata": {},
     "output_type": "execute_result"
    }
   ],
   "source": [
    "#string indexing\n",
    "a=\"rajnikanth\"\n",
    "a[0],a[1],a[-4],a[-3]\n"
   ]
  },
  {
   "cell_type": "code",
   "execution_count": 15,
   "id": "cedbae7e-9f1a-49fd-ab11-54573bb2dd2a",
   "metadata": {},
   "outputs": [
    {
     "data": {
      "text/plain": [
       "'rajnikanth'"
      ]
     },
     "execution_count": 15,
     "metadata": {},
     "output_type": "execute_result"
    }
   ],
   "source": [
    "#string slicing - [start:end-1]\n",
    "a=\"rajnikanth\"\n",
    "a[0:5]\n",
    "a[0:]"
   ]
  },
  {
   "cell_type": "code",
   "execution_count": 16,
   "id": "61e7947b-f1b5-443b-8487-b981a642055b",
   "metadata": {},
   "outputs": [
    {
     "data": {
      "text/plain": [
       "'hnssamgsnaa'"
      ]
     },
     "execution_count": 16,
     "metadata": {},
     "output_type": "execute_result"
    }
   ],
   "source": [
    "#step arguement - [start:end:step]\n",
    "a=\"hanushshanmugasundaram\"\n",
    "a[0::2]"
   ]
  },
  {
   "cell_type": "code",
   "execution_count": null,
   "id": "27be175b-0b1e-4f05-a07f-c4f5d4f9d4a8",
   "metadata": {},
   "outputs": [],
   "source": []
  }
 ],
 "metadata": {
  "kernelspec": {
   "display_name": "Python 3 (ipykernel)",
   "language": "python",
   "name": "python3"
  },
  "language_info": {
   "codemirror_mode": {
    "name": "ipython",
    "version": 3
   },
   "file_extension": ".py",
   "mimetype": "text/x-python",
   "name": "python",
   "nbconvert_exporter": "python",
   "pygments_lexer": "ipython3",
   "version": "3.12.1"
  }
 },
 "nbformat": 4,
 "nbformat_minor": 5
}
