{
 "cells": [
  {
   "cell_type": "code",
   "execution_count": 1,
   "id": "a43e0371-bc28-4ef9-8590-929395dcd657",
   "metadata": {},
   "outputs": [
    {
     "name": "stdout",
     "output_type": "stream",
     "text": [
      "4\n",
      "4\n",
      "4\n"
     ]
    }
   ],
   "source": [
    "#basic operations - len()\n",
    "l1=[1,2,3,\"hello\"]\n",
    "print(len(l1))\n",
    "l2=[1,2,3,[\"hello\"]]\n",
    "print(len(l2))\n",
    "l3=[1,2,3,[\"hello\",5]]\n",
    "print(len(l3))"
   ]
  },
  {
   "cell_type": "code",
   "execution_count": 2,
   "id": "5d991472-ed65-4919-b08f-6ae81cfe1216",
   "metadata": {},
   "outputs": [
    {
     "name": "stdout",
     "output_type": "stream",
     "text": [
      "[1, 2, 3, 4, 5, 6]\n"
     ]
    }
   ],
   "source": [
    "#concatenation\n",
    "l1=[1,2,3]\n",
    "l2=[4,5,6]\n",
    "print(l1+l2)"
   ]
  },
  {
   "cell_type": "code",
   "execution_count": 3,
   "id": "8526f0ba-2771-4b70-a5d8-8eab8cd27776",
   "metadata": {},
   "outputs": [
    {
     "name": "stdout",
     "output_type": "stream",
     "text": [
      "[1, 2, 3, 1, 2, 3, 1, 2, 3, 1, 2, 3, 1, 2, 3]\n"
     ]
    }
   ],
   "source": [
    "#repitation\n",
    "l1=[1,2,3]\n",
    "print(l1*5)"
   ]
  },
  {
   "cell_type": "code",
   "execution_count": 4,
   "id": "9d3e7152-ffbd-4b0c-8c15-36c0db1ab4cf",
   "metadata": {},
   "outputs": [
    {
     "data": {
      "text/plain": [
       "False"
      ]
     },
     "execution_count": 4,
     "metadata": {},
     "output_type": "execute_result"
    }
   ],
   "source": [
    "#membership operator\n",
    "l1=[1,2,3,4,5,6,7,8]\n",
    "9 in l1"
   ]
  },
  {
   "cell_type": "code",
   "execution_count": 5,
   "id": "6801421e-43bc-48fb-8439-aea6dc1d0023",
   "metadata": {},
   "outputs": [
    {
     "name": "stdout",
     "output_type": "stream",
     "text": [
      "['blue', 'black', 'red', 'white']\n"
     ]
    }
   ],
   "source": [
    "#append() extend() - string value\n",
    "l1=[\"blue\",\"black\",\"red\"]\n",
    "l1.append(\"white\")\n",
    "print(l1)"
   ]
  },
  {
   "cell_type": "code",
   "execution_count": null,
   "id": "455d0900-60fb-4d1c-9996-d1c52f778929",
   "metadata": {},
   "outputs": [],
   "source": []
  }
 ],
 "metadata": {
  "kernelspec": {
   "display_name": "Python 3 (ipykernel)",
   "language": "python",
   "name": "python3"
  },
  "language_info": {
   "codemirror_mode": {
    "name": "ipython",
    "version": 3
   },
   "file_extension": ".py",
   "mimetype": "text/x-python",
   "name": "python",
   "nbconvert_exporter": "python",
   "pygments_lexer": "ipython3",
   "version": "3.12.1"
  }
 },
 "nbformat": 4,
 "nbformat_minor": 5
}
