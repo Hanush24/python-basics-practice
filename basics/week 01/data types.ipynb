{
 "cells": [
  {
   "cell_type": "code",
   "execution_count": 1,
   "id": "5efae3a8-400f-47c1-b53f-6981c67be5b3",
   "metadata": {},
   "outputs": [
    {
     "name": "stdin",
     "output_type": "stream",
     "text": [
      "enter your name:  hanush\n",
      "enter your age:  21\n",
      "enter your height:  5.9\n"
     ]
    }
   ],
   "source": [
    "name=input(\"enter your name: \")\n",
    "age=int(input(\"enter your age: \"))\n",
    "height=float(input(\"enter your height: \"))"
   ]
  },
  {
   "cell_type": "code",
   "execution_count": 2,
   "id": "424475b8-2a5f-404d-b072-cc545a8d6138",
   "metadata": {},
   "outputs": [
    {
     "name": "stdout",
     "output_type": "stream",
     "text": [
      "type of name:  <class 'str'> \n",
      "type of age:  <class 'int'> \n",
      "type of height:  <class 'float'>\n"
     ]
    }
   ],
   "source": [
    "#to find the data types we use type() function\n",
    "a=type(name)\n",
    "b=type(age)\n",
    "c=type(height)\n",
    "print(\"type of name: \",a,\"\\ntype of age: \",b,\"\\ntype of height: \",c)"
   ]
  },
  {
   "cell_type": "markdown",
   "id": "cba69464-9864-4d31-a45b-210dfc25e679",
   "metadata": {},
   "source": [
    "printing variables"
   ]
  },
  {
   "cell_type": "code",
   "execution_count": 4,
   "id": "8f40abc3-b96a-4a04-97f0-620dc32949b8",
   "metadata": {},
   "outputs": [
    {
     "name": "stdout",
     "output_type": "stream",
     "text": [
      "your name is:  hanush \n",
      "your age is:  21 \n",
      "your height is:  5.9\n"
     ]
    }
   ],
   "source": [
    "print(\"your name is: \",name,\"\\nyour age is: \",age,\"\\nyour height is: \",height)"
   ]
  },
  {
   "cell_type": "markdown",
   "id": "2c2c6819-8a92-4eab-94cd-05fe3b1e6e37",
   "metadata": {},
   "source": [
    "the otherway of printing this is"
   ]
  },
  {
   "cell_type": "code",
   "execution_count": 6,
   "id": "93096825-159f-45c1-bd96-333077db2195",
   "metadata": {},
   "outputs": [
    {
     "name": "stdout",
     "output_type": "stream",
     "text": [
      "your name is hanush, your age is 21 and your height is 5.9 .\n"
     ]
    }
   ],
   "source": [
    "print(f\"your name is {name}, your age is {age} and your height is {height} .\") "
   ]
  },
  {
   "cell_type": "markdown",
   "id": "b33d17f5-f39b-4cc0-b9d0-e4ada2dc8259",
   "metadata": {},
   "source": [
    "if print(f\"{}\") is used this bracket {} should be must used."
   ]
  }
 ],
 "metadata": {
  "kernelspec": {
   "display_name": "Python 3 (ipykernel)",
   "language": "python",
   "name": "python3"
  },
  "language_info": {
   "codemirror_mode": {
    "name": "ipython",
    "version": 3
   },
   "file_extension": ".py",
   "mimetype": "text/x-python",
   "name": "python",
   "nbconvert_exporter": "python",
   "pygments_lexer": "ipython3",
   "version": "3.12.1"
  }
 },
 "nbformat": 4,
 "nbformat_minor": 5
}
